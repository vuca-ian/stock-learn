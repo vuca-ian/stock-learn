{
 "cells": [
  {
   "cell_type": "code",
   "execution_count": null,
   "metadata": {},
   "outputs": [],
   "source": [
    "import numpy as np\n",
    "import talib as ta\n",
    "import pandas as pd\n",
    "import matplotlib.pyplot as plt\n",
    "import matplotlib.dates as mdates\n",
    "\n",
    "import platform\n",
    "if platform.system() == 'Darwin':  # macOS\n",
    "    plt.rcParams['font.family'] = ['Songti SC']\n",
    "elif platform.system() == 'Windows':\n",
    "    plt.rcParams['font.family'] = ['SimSun']\n",
    "else:  # Linux\n",
    "    plt.rcParams['font.family'] = ['Noto Sans CJK SC']"
   ]
  },
  {
   "cell_type": "code",
   "execution_count": null,
   "metadata": {},
   "outputs": [],
   "source": [
    "df = pd.read_csv('../data/train.csv', parse_dates=['date'])\n",
    "\n",
    "df.tail()"
   ]
  },
  {
   "cell_type": "code",
   "execution_count": null,
   "metadata": {},
   "outputs": [],
   "source": [
    "def check_time_serial(df, column='date',  freq ='1H', range=None):\n",
    "    current_range = range\n",
    "    if range is None:\n",
    "        current_range = pd.date_range(start =df[column].min(), end=df[column].max(), freq=freq)\n",
    "    missing_times = current_range.difference(df[column])\n",
    "    print(f\"时间序列总长度：{len(current_range)}, 实际数据长度：{len(df)}\")\n",
    "    print(f\"缺失时间段数量：{len(missing_times)}，缺失的具体时间点：\\n {missing_times}\")\n",
    "    # time_diffs = df['date'].diff().dropna()\n",
    "    # invalid_diffs = time_diffs[time_diffs > pd.Timedelta(minutes=30)]\n",
    "    # print(f\"\\n异常时间间隔：\\n{invalid_diffs}\")\n",
    "\n",
    "check_time_serial(df, column='date', freq ='30min')"
   ]
  },
  {
   "cell_type": "code",
   "execution_count": null,
   "metadata": {},
   "outputs": [],
   "source": [
    "\"\"\"1小时数据\"\"\"\n",
    "hour1_range = pd.date_range(start =df['date'].min(), end=df['date'].max(), freq='1H')\n",
    "\n",
    "hour1_df = df[df['date'].isin(hour1_range)]\n",
    "\n",
    "check_time_serial(hour1_df, freq='1H', range=hour1_range)\n",
    "hour1_df.to_csv('../data/train-1hour.csv', index=False)"
   ]
  },
  {
   "cell_type": "code",
   "execution_count": null,
   "metadata": {},
   "outputs": [],
   "source": [
    "hour4_range = pd.date_range(start =df['date'].min(), end=df['date'].max(), freq='4H')\n",
    "\n",
    "hour4_df = df[df['date'].isin(hour4_range)]\n",
    "\n",
    "check_time_serial(hour1_df, freq='4H', range=hour1_range)\n",
    "hour1_df.to_csv('../data/train-4hour.csv', index=False)\n",
    "\n",
    "hour4_df.tail()"
   ]
  },
  {
   "cell_type": "code",
   "execution_count": null,
   "metadata": {},
   "outputs": [],
   "source": [
    "day1_range = pd.date_range(start =df['date'].min(), end=df['date'].max(), freq='1D')\n",
    "\n",
    "day1_df = df[df['date'].isin(day1_range)]\n",
    "\n",
    "check_time_serial(day1_df, freq='4H', range=day1_range)\n",
    "day1_df.to_csv('../data/train-1day.csv', index=False)\n",
    "\n",
    "day1_df.tail()"
   ]
  }
 ],
 "metadata": {
  "kernelspec": {
   "display_name": "tf310",
   "language": "python",
   "name": "python3"
  },
  "language_info": {
   "codemirror_mode": {
    "name": "ipython",
    "version": 3
   },
   "file_extension": ".py",
   "mimetype": "text/x-python",
   "name": "python",
   "nbconvert_exporter": "python",
   "pygments_lexer": "ipython3",
   "version": "3.10.16"
  }
 },
 "nbformat": 4,
 "nbformat_minor": 2
}
