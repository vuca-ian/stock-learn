{
 "cells": [
  {
   "cell_type": "code",
   "execution_count": 22,
   "metadata": {},
   "outputs": [],
   "source": [
    "import numpy as np\n",
    "import talib as ta\n",
    "import pandas as pd\n",
    "import matplotlib.pyplot as plt\n",
    "import matplotlib.dates as mdates\n",
    "import tensorflow as tf\n",
    "from sklearn.preprocessing import MinMaxScaler\n",
    "from tensorflow.keras.layers import LSTM, Dense, Input, concatenate, Layer, Attention\n",
    "from tensorflow.keras.models import Model\n",
    "from tensorflow.keras.callbacks import EarlyStopping\n",
    "from sklearn.metrics import mean_squared_error, mean_absolute_error, r2_score"
   ]
  },
  {
   "cell_type": "code",
   "execution_count": 23,
   "metadata": {},
   "outputs": [],
   "source": [
    "# ================== 增强版数据预处理 ==================\n",
    "def preprocess_data(file_path, time_scales=['30min']):\n",
    "    # 读取原始数据\n",
    "    # df = pd.read_csv(file_path, parse_dates=['date'], index_col='date')\n",
    "    \n",
    "    # 技术指标计算\n",
    "    def add_technical_indicators(df):\n",
    "        # 价格特征\n",
    "        # df['price_diff'] = df['close'].diff()\n",
    "        # df['returns'] = df['close'].pct_change()\n",
    "        \n",
    "        # # 波动率指标\n",
    "        # df['volatility_20'] = df['returns'].rolling(20).std()\n",
    "        \n",
    "        # # 技术指标\n",
    "        # df['MA_10'] = df['close'].rolling(10).mean()\n",
    "        # df['RSI'] = ta.RSI(df['close'], window=14)\n",
    "        # df['MACD'], df['Signal'], df['Hist'] = ta.MACD(df['close'], fastperiod=12, slowperiod=26, signalperiod=9)\n",
    "        return df.dropna()\n",
    "\n",
    "    # 多尺度特征工程\n",
    "    scaled_data = {}\n",
    "    for scale in time_scales:\n",
    "        # 重采样\n",
    "        # 读取原始数据\n",
    "        resampled = pd.read_csv(f\"{file_path}/train-{scale}.csv\", parse_dates=['date'], index_col='date')\n",
    "        # resampled = df.resample(scale).agg({\n",
    "        #     'open': 'first',\n",
    "        #     'high': 'max',\n",
    "        #     'low': 'min',\n",
    "        #     'close': 'last',\n",
    "        #     'volume': 'sum'\n",
    "        # }).ffill()\n",
    "        \n",
    "        # 添加技术指标\n",
    "        resampled = add_technical_indicators(resampled)\n",
    "        \n",
    "        # 归一化处理\n",
    "        scaler = MinMaxScaler(feature_range=(0,1))\n",
    "        scaled = scaler.fit_transform(resampled)\n",
    "        \n",
    "        # 构建3D时序数据 [samples, timesteps, features]\n",
    "        seq_length = 60  # 使用60个时间窗口\n",
    "        X, y = [], []\n",
    "        for i in range(len(scaled)-seq_length-1):\n",
    "            X.append(scaled[i:i+seq_length])\n",
    "            y.append(scaled[i+seq_length, 3])  # 预测close价格\n",
    "        scaled_data[scale] = (np.array(X), np.array(y))\n",
    "    \n",
    "    return scaled_data, scaler"
   ]
  },
  {
   "cell_type": "code",
   "execution_count": 24,
   "metadata": {},
   "outputs": [],
   "source": [
    "# ================== MoE 模型架构 ==================\n",
    "class ExpertNetwork(Layer):\n",
    "    def __init__(self, units, **kwargs):\n",
    "        super(ExpertNetwork, self).__init__(**kwargs)\n",
    "        self.lstm1 = LSTM(units[0], return_sequences=True)\n",
    "        self.lstm2 = LSTM(units[1])\n",
    "        self.dense = Dense(1)\n",
    "\n",
    "    def call(self, inputs):\n",
    "        x = self.lstm1(inputs)\n",
    "        x = self.lstm2(x)\n",
    "        return self.dense(x)\n",
    "\n",
    "class MoE(Model):\n",
    "    def __init__(self, num_experts, time_scales, **kwargs):\n",
    "        super(MoE, self).__init__(**kwargs)\n",
    "        self.experts = [ExpertNetwork([64,32]) for _ in range(num_experts)]\n",
    "        self.attention = Attention(use_scale=True)\n",
    "        self.gate = Dense(num_experts, activation='softmax')\n",
    "        self.final_dense = Dense(1)\n",
    "        self.time_scales = time_scales\n",
    "\n",
    "    def call(self, inputs):\n",
    "        # 专家输出\n",
    "        expert_outputs = []\n",
    "        for i, expert in enumerate(self.experts):\n",
    "            scale_input = inputs[:,i,:,:]  # 每个专家处理对应尺度数据\n",
    "            expert_outputs.append(expert(scale_input))\n",
    "        \n",
    "        # 动态路由\n",
    "        concatenated = concatenate(expert_outputs)\n",
    "        attention_weights = self.attention([concatenated, concatenated])\n",
    "        gated_output = tf.reduce_sum(attention_weights * concatenated, axis=1)\n",
    "        \n",
    "        # 门控融合\n",
    "        gate_weights = self.gate(gated_output)\n",
    "        weighted_output = tf.reduce_sum(gate_weights * concatenated, axis=1)\n",
    "        \n",
    "        return self.final_dense(weighted_output)\n",
    "\n",
    "# ================== 模型训练 ==================\n",
    "def train_moe_model(data_dict):\n",
    "    # 初始化模型\n",
    "    model = MoE(num_experts=len(data_dict), time_scales=data_dict.keys())\n",
    "    \n",
    "    # 准备多尺度输入数据\n",
    "    X_list = [data[0] for data in data_dict.values()]\n",
    "    y = list(data_dict.values())[0][1]  # 假设所有尺度使用相同目标\n",
    "    \n",
    "    # 模型编译\n",
    "    model.compile(optimizer='adamax',\n",
    "                loss='mse',\n",
    "                metrics=['mae'])\n",
    "    model.summary()\n",
    "    # 早停策略\n",
    "    es = EarlyStopping(monitor='val_loss', patience=5)\n",
    "    \n",
    "    # 模型训练\n",
    "    history = model.fit(X_list, y,\n",
    "                      epochs=100,\n",
    "                      batch_size=64,\n",
    "                      validation_split=0.2,\n",
    "                      callbacks=[es])\n",
    "    print(\"预测模型...\")\n",
    "    return model"
   ]
  },
  {
   "cell_type": "code",
   "execution_count": 25,
   "metadata": {},
   "outputs": [],
   "source": [
    "# ================== 模型预测与评估 ==================\n",
    "def evaluate_moe(model, test_file, scaler, time_scales=['30min']):\n",
    "    # 加载测试数据\n",
    "    test_data, _ = preprocess_data(test_file, time_scales)\n",
    "    \n",
    "    # 准备多尺度测试输入\n",
    "    X_test_list = [data[0] for data in test_data.values()]\n",
    "    y_test = list(test_data.values())[0][1]\n",
    "\n",
    "    # 模型预测\n",
    "    predictions = model.predict(X_test_list)\n",
    "    \n",
    "    # 反归一化处理\n",
    "    def inverse_scale(data, scaler, feature_index=3):\n",
    "        dummy = np.zeros(shape=(len(data), scaler.n_features_in_))\n",
    "        dummy[:, feature_index] = data\n",
    "        return scaler.inverse_transform(dummy)[:, feature_index]\n",
    "\n",
    "    # 获取实际价格序列\n",
    "    real_prices = inverse_scale(y_test, scaler)\n",
    "    predicted_prices = inverse_scale(predictions, scaler)\n",
    "\n",
    "    # 计算评估指标\n",
    "    mse = mean_squared_error(real_prices, predicted_prices)\n",
    "    rmse = np.sqrt(mse)\n",
    "    mae = mean_absolute_error(real_prices, predicted_prices)\n",
    "    r2 = r2_score(real_prices, predicted_prices)\n",
    "\n",
    "    # 可视化对比\n",
    "    plt.figure(figsize=(15, 6))\n",
    "    plt.plot(real_prices, label='Actual Prices', alpha=0.7)\n",
    "    plt.plot(predicted_prices, label='Predicted Prices', linestyle='--')\n",
    "    plt.title(f'MoE Model Prediction Results\\nMSE: {mse:.4f}  MAE: {mae:.4f}  R²: {r2:.4f}')\n",
    "    plt.legend()\n",
    "    plt.grid(True)\n",
    "    plt.savefig('moe_prediction_comparison.png')\n",
    "    plt.show()\n",
    "\n",
    "    # 返回指标字典\n",
    "    return {\n",
    "        'MSE': mse,\n",
    "        'RMSE': rmse,\n",
    "        'MAE': mae,\n",
    "        'R2': r2,\n",
    "        'Predictions': predicted_prices,\n",
    "        'Actuals': real_prices\n",
    "    }"
   ]
  },
  {
   "cell_type": "code",
   "execution_count": 26,
   "metadata": {},
   "outputs": [
    {
     "data": {
      "text/html": [
       "<pre style=\"white-space:pre;overflow-x:auto;line-height:normal;font-family:Menlo,'DejaVu Sans Mono',consolas,'Courier New',monospace\"><span style=\"font-weight: bold\">Model: \"mo_e\"</span>\n",
       "</pre>\n"
      ],
      "text/plain": [
       "\u001b[1mModel: \"mo_e\"\u001b[0m\n"
      ]
     },
     "metadata": {},
     "output_type": "display_data"
    },
    {
     "data": {
      "text/html": [
       "<pre style=\"white-space:pre;overflow-x:auto;line-height:normal;font-family:Menlo,'DejaVu Sans Mono',consolas,'Courier New',monospace\">┏━━━━━━━━━━━━━━━━━━━━━━━━━━━━━━━━━┳━━━━━━━━━━━━━━━━━━━━━━━━┳━━━━━━━━━━━━━━━┓\n",
       "┃<span style=\"font-weight: bold\"> Layer (type)                    </span>┃<span style=\"font-weight: bold\"> Output Shape           </span>┃<span style=\"font-weight: bold\">       Param # </span>┃\n",
       "┡━━━━━━━━━━━━━━━━━━━━━━━━━━━━━━━━━╇━━━━━━━━━━━━━━━━━━━━━━━━╇━━━━━━━━━━━━━━━┩\n",
       "│ expert_network (<span style=\"color: #0087ff; text-decoration-color: #0087ff\">ExpertNetwork</span>)  │ ?                      │   <span style=\"color: #00af00; text-decoration-color: #00af00\">0</span> (unbuilt) │\n",
       "├─────────────────────────────────┼────────────────────────┼───────────────┤\n",
       "│ attention (<span style=\"color: #0087ff; text-decoration-color: #0087ff\">Attention</span>)           │ ?                      │   <span style=\"color: #00af00; text-decoration-color: #00af00\">0</span> (unbuilt) │\n",
       "├─────────────────────────────────┼────────────────────────┼───────────────┤\n",
       "│ dense_1 (<span style=\"color: #0087ff; text-decoration-color: #0087ff\">Dense</span>)                 │ ?                      │   <span style=\"color: #00af00; text-decoration-color: #00af00\">0</span> (unbuilt) │\n",
       "├─────────────────────────────────┼────────────────────────┼───────────────┤\n",
       "│ dense_2 (<span style=\"color: #0087ff; text-decoration-color: #0087ff\">Dense</span>)                 │ ?                      │   <span style=\"color: #00af00; text-decoration-color: #00af00\">0</span> (unbuilt) │\n",
       "└─────────────────────────────────┴────────────────────────┴───────────────┘\n",
       "</pre>\n"
      ],
      "text/plain": [
       "┏━━━━━━━━━━━━━━━━━━━━━━━━━━━━━━━━━┳━━━━━━━━━━━━━━━━━━━━━━━━┳━━━━━━━━━━━━━━━┓\n",
       "┃\u001b[1m \u001b[0m\u001b[1mLayer (type)                   \u001b[0m\u001b[1m \u001b[0m┃\u001b[1m \u001b[0m\u001b[1mOutput Shape          \u001b[0m\u001b[1m \u001b[0m┃\u001b[1m \u001b[0m\u001b[1m      Param #\u001b[0m\u001b[1m \u001b[0m┃\n",
       "┡━━━━━━━━━━━━━━━━━━━━━━━━━━━━━━━━━╇━━━━━━━━━━━━━━━━━━━━━━━━╇━━━━━━━━━━━━━━━┩\n",
       "│ expert_network (\u001b[38;5;33mExpertNetwork\u001b[0m)  │ ?                      │   \u001b[38;5;34m0\u001b[0m (unbuilt) │\n",
       "├─────────────────────────────────┼────────────────────────┼───────────────┤\n",
       "│ attention (\u001b[38;5;33mAttention\u001b[0m)           │ ?                      │   \u001b[38;5;34m0\u001b[0m (unbuilt) │\n",
       "├─────────────────────────────────┼────────────────────────┼───────────────┤\n",
       "│ dense_1 (\u001b[38;5;33mDense\u001b[0m)                 │ ?                      │   \u001b[38;5;34m0\u001b[0m (unbuilt) │\n",
       "├─────────────────────────────────┼────────────────────────┼───────────────┤\n",
       "│ dense_2 (\u001b[38;5;33mDense\u001b[0m)                 │ ?                      │   \u001b[38;5;34m0\u001b[0m (unbuilt) │\n",
       "└─────────────────────────────────┴────────────────────────┴───────────────┘\n"
      ]
     },
     "metadata": {},
     "output_type": "display_data"
    },
    {
     "data": {
      "text/html": [
       "<pre style=\"white-space:pre;overflow-x:auto;line-height:normal;font-family:Menlo,'DejaVu Sans Mono',consolas,'Courier New',monospace\"><span style=\"font-weight: bold\"> Total params: </span><span style=\"color: #00af00; text-decoration-color: #00af00\">0</span> (0.00 B)\n",
       "</pre>\n"
      ],
      "text/plain": [
       "\u001b[1m Total params: \u001b[0m\u001b[38;5;34m0\u001b[0m (0.00 B)\n"
      ]
     },
     "metadata": {},
     "output_type": "display_data"
    },
    {
     "data": {
      "text/html": [
       "<pre style=\"white-space:pre;overflow-x:auto;line-height:normal;font-family:Menlo,'DejaVu Sans Mono',consolas,'Courier New',monospace\"><span style=\"font-weight: bold\"> Trainable params: </span><span style=\"color: #00af00; text-decoration-color: #00af00\">0</span> (0.00 B)\n",
       "</pre>\n"
      ],
      "text/plain": [
       "\u001b[1m Trainable params: \u001b[0m\u001b[38;5;34m0\u001b[0m (0.00 B)\n"
      ]
     },
     "metadata": {},
     "output_type": "display_data"
    },
    {
     "data": {
      "text/html": [
       "<pre style=\"white-space:pre;overflow-x:auto;line-height:normal;font-family:Menlo,'DejaVu Sans Mono',consolas,'Courier New',monospace\"><span style=\"font-weight: bold\"> Non-trainable params: </span><span style=\"color: #00af00; text-decoration-color: #00af00\">0</span> (0.00 B)\n",
       "</pre>\n"
      ],
      "text/plain": [
       "\u001b[1m Non-trainable params: \u001b[0m\u001b[38;5;34m0\u001b[0m (0.00 B)\n"
      ]
     },
     "metadata": {},
     "output_type": "display_data"
    },
    {
     "name": "stdout",
     "output_type": "stream",
     "text": [
      "Epoch 1/100\n"
     ]
    },
    {
     "name": "stderr",
     "output_type": "stream",
     "text": [
      "c:\\Users\\liufa\\.pyenv\\pyenv-win\\versions\\3.10.11\\lib\\site-packages\\keras\\src\\layers\\layer.py:1407: UserWarning: Layer 'mo_e' looks like it has unbuilt state, but Keras is not able to trace the layer `call()` in order to build it automatically. Possible causes:\n",
      "1. The `call()` method of your layer may be crashing. Try to `__call__()` the layer eagerly on some test input first to see if it works. E.g. `x = np.random.random((3, 4)); y = layer(x)`\n",
      "2. If the `call()` method is correct, then you may need to implement the `def build(self, input_shape)` method on your layer. It should create all variables used by the layer (e.g. by calling `layer.build()` on all its children layers).\n",
      "Exception encountered: ''tuple indices must be integers or slices, not tuple''\n",
      "  warnings.warn(\n",
      "c:\\Users\\liufa\\.pyenv\\pyenv-win\\versions\\3.10.11\\lib\\site-packages\\keras\\src\\layers\\layer.py:395: UserWarning: `build()` was called on layer 'mo_e', however the layer does not have a `build()` method implemented and it looks like it has unbuilt state. This will cause the layer to be marked as built, despite not being actually built, which may cause failures down the line. Make sure to implement a proper `build()` method.\n",
      "  warnings.warn(\n"
     ]
    },
    {
     "ename": "TypeError",
     "evalue": "Exception encountered when calling MoE.call().\n\n\u001b[1mtuple indices must be integers or slices, not tuple\u001b[0m\n\nArguments received by MoE.call():\n  • inputs=('tf.Tensor(shape=(None, 60, 31), dtype=float32)',)",
     "output_type": "error",
     "traceback": [
      "\u001b[1;31m---------------------------------------------------------------------------\u001b[0m",
      "\u001b[1;31mTypeError\u001b[0m                                 Traceback (most recent call last)",
      "Cell \u001b[1;32mIn[26], line 5\u001b[0m\n\u001b[0;32m      2\u001b[0m data_scaled, scaler \u001b[38;5;241m=\u001b[39m preprocess_data(\u001b[38;5;124m'\u001b[39m\u001b[38;5;124m../data/\u001b[39m\u001b[38;5;124m'\u001b[39m)\n\u001b[0;32m      4\u001b[0m \u001b[38;5;66;03m# 模型训练\u001b[39;00m\n\u001b[1;32m----> 5\u001b[0m moe_model \u001b[38;5;241m=\u001b[39m \u001b[43mtrain_moe_model\u001b[49m\u001b[43m(\u001b[49m\u001b[43mdata_scaled\u001b[49m\u001b[43m)\u001b[49m\n\u001b[0;32m      7\u001b[0m \u001b[38;5;66;03m# 模型保存\u001b[39;00m\n\u001b[0;32m      8\u001b[0m moe_model\u001b[38;5;241m.\u001b[39msave(\u001b[38;5;124m'\u001b[39m\u001b[38;5;124mmoe_stock_predictor.h5\u001b[39m\u001b[38;5;124m'\u001b[39m)\n",
      "Cell \u001b[1;32mIn[24], line 59\u001b[0m, in \u001b[0;36mtrain_moe_model\u001b[1;34m(data_dict)\u001b[0m\n\u001b[0;32m     56\u001b[0m es \u001b[38;5;241m=\u001b[39m EarlyStopping(monitor\u001b[38;5;241m=\u001b[39m\u001b[38;5;124m'\u001b[39m\u001b[38;5;124mval_loss\u001b[39m\u001b[38;5;124m'\u001b[39m, patience\u001b[38;5;241m=\u001b[39m\u001b[38;5;241m5\u001b[39m)\n\u001b[0;32m     58\u001b[0m \u001b[38;5;66;03m# 模型训练\u001b[39;00m\n\u001b[1;32m---> 59\u001b[0m history \u001b[38;5;241m=\u001b[39m \u001b[43mmodel\u001b[49m\u001b[38;5;241;43m.\u001b[39;49m\u001b[43mfit\u001b[49m\u001b[43m(\u001b[49m\u001b[43mX_list\u001b[49m\u001b[43m,\u001b[49m\u001b[43m \u001b[49m\u001b[43my\u001b[49m\u001b[43m,\u001b[49m\n\u001b[0;32m     60\u001b[0m \u001b[43m                  \u001b[49m\u001b[43mepochs\u001b[49m\u001b[38;5;241;43m=\u001b[39;49m\u001b[38;5;241;43m100\u001b[39;49m\u001b[43m,\u001b[49m\n\u001b[0;32m     61\u001b[0m \u001b[43m                  \u001b[49m\u001b[43mbatch_size\u001b[49m\u001b[38;5;241;43m=\u001b[39;49m\u001b[38;5;241;43m64\u001b[39;49m\u001b[43m,\u001b[49m\n\u001b[0;32m     62\u001b[0m \u001b[43m                  \u001b[49m\u001b[43mvalidation_split\u001b[49m\u001b[38;5;241;43m=\u001b[39;49m\u001b[38;5;241;43m0.2\u001b[39;49m\u001b[43m,\u001b[49m\n\u001b[0;32m     63\u001b[0m \u001b[43m                  \u001b[49m\u001b[43mcallbacks\u001b[49m\u001b[38;5;241;43m=\u001b[39;49m\u001b[43m[\u001b[49m\u001b[43mes\u001b[49m\u001b[43m]\u001b[49m\u001b[43m)\u001b[49m\n\u001b[0;32m     64\u001b[0m \u001b[38;5;28mprint\u001b[39m(\u001b[38;5;124m\"\u001b[39m\u001b[38;5;124m预测模型...\u001b[39m\u001b[38;5;124m\"\u001b[39m)\n\u001b[0;32m     65\u001b[0m \u001b[38;5;28;01mreturn\u001b[39;00m model\n",
      "File \u001b[1;32mc:\\Users\\liufa\\.pyenv\\pyenv-win\\versions\\3.10.11\\lib\\site-packages\\keras\\src\\utils\\traceback_utils.py:122\u001b[0m, in \u001b[0;36mfilter_traceback.<locals>.error_handler\u001b[1;34m(*args, **kwargs)\u001b[0m\n\u001b[0;32m    119\u001b[0m     filtered_tb \u001b[38;5;241m=\u001b[39m _process_traceback_frames(e\u001b[38;5;241m.\u001b[39m__traceback__)\n\u001b[0;32m    120\u001b[0m     \u001b[38;5;66;03m# To get the full stack trace, call:\u001b[39;00m\n\u001b[0;32m    121\u001b[0m     \u001b[38;5;66;03m# `keras.config.disable_traceback_filtering()`\u001b[39;00m\n\u001b[1;32m--> 122\u001b[0m     \u001b[38;5;28;01mraise\u001b[39;00m e\u001b[38;5;241m.\u001b[39mwith_traceback(filtered_tb) \u001b[38;5;28;01mfrom\u001b[39;00m\u001b[38;5;250m \u001b[39m\u001b[38;5;28;01mNone\u001b[39;00m\n\u001b[0;32m    123\u001b[0m \u001b[38;5;28;01mfinally\u001b[39;00m:\n\u001b[0;32m    124\u001b[0m     \u001b[38;5;28;01mdel\u001b[39;00m filtered_tb\n",
      "Cell \u001b[1;32mIn[24], line 27\u001b[0m, in \u001b[0;36mMoE.call\u001b[1;34m(self, inputs)\u001b[0m\n\u001b[0;32m     25\u001b[0m expert_outputs \u001b[38;5;241m=\u001b[39m []\n\u001b[0;32m     26\u001b[0m \u001b[38;5;28;01mfor\u001b[39;00m i, expert \u001b[38;5;129;01min\u001b[39;00m \u001b[38;5;28menumerate\u001b[39m(\u001b[38;5;28mself\u001b[39m\u001b[38;5;241m.\u001b[39mexperts):\n\u001b[1;32m---> 27\u001b[0m     scale_input \u001b[38;5;241m=\u001b[39m \u001b[43minputs\u001b[49m\u001b[43m[\u001b[49m\u001b[43m:\u001b[49m\u001b[43m,\u001b[49m\u001b[43mi\u001b[49m\u001b[43m,\u001b[49m\u001b[43m:\u001b[49m\u001b[43m,\u001b[49m\u001b[43m:\u001b[49m\u001b[43m]\u001b[49m  \u001b[38;5;66;03m# 每个专家处理对应尺度数据\u001b[39;00m\n\u001b[0;32m     28\u001b[0m     expert_outputs\u001b[38;5;241m.\u001b[39mappend(expert(scale_input))\n\u001b[0;32m     30\u001b[0m \u001b[38;5;66;03m# 动态路由\u001b[39;00m\n",
      "\u001b[1;31mTypeError\u001b[0m: Exception encountered when calling MoE.call().\n\n\u001b[1mtuple indices must be integers or slices, not tuple\u001b[0m\n\nArguments received by MoE.call():\n  • inputs=('tf.Tensor(shape=(None, 60, 31), dtype=float32)',)"
     ]
    }
   ],
   "source": [
    "# 数据预处理\n",
    "data_scaled, scaler = preprocess_data('../data/')\n",
    "\n",
    "# 模型训练\n",
    "moe_model = train_moe_model(data_scaled)\n",
    "\n",
    "# 模型保存\n",
    "moe_model.save('moe_stock_predictor.h5')"
   ]
  }
 ],
 "metadata": {
  "kernelspec": {
   "display_name": "Python 3",
   "language": "python",
   "name": "python3"
  },
  "language_info": {
   "codemirror_mode": {
    "name": "ipython",
    "version": 3
   },
   "file_extension": ".py",
   "mimetype": "text/x-python",
   "name": "python",
   "nbconvert_exporter": "python",
   "pygments_lexer": "ipython3",
   "version": "3.10.11"
  }
 },
 "nbformat": 4,
 "nbformat_minor": 2
}
