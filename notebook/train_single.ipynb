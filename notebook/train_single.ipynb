{
 "cells": [
  {
   "cell_type": "code",
   "execution_count": 78,
   "metadata": {},
   "outputs": [],
   "source": [
    "import pandas as pd\n",
    "import numpy as np\n",
    "import matplotlib.pyplot as plt\n",
    "import matplotlib.dates as mdates\n",
    "import tensorflow as tf\n",
    "from sklearn.ensemble import GradientBoostingRegressor\n",
    "from sklearn.preprocessing import MinMaxScaler\n",
    "from sklearn.model_selection import train_test_split\n",
    "from sklearn.metrics import mean_squared_error, mean_absolute_error, r2_score"
   ]
  },
  {
   "cell_type": "code",
   "execution_count": 79,
   "metadata": {},
   "outputs": [
    {
     "data": {
      "text/html": [
       "<div>\n",
       "<style scoped>\n",
       "    .dataframe tbody tr th:only-of-type {\n",
       "        vertical-align: middle;\n",
       "    }\n",
       "\n",
       "    .dataframe tbody tr th {\n",
       "        vertical-align: top;\n",
       "    }\n",
       "\n",
       "    .dataframe thead th {\n",
       "        text-align: right;\n",
       "    }\n",
       "</style>\n",
       "<table border=\"1\" class=\"dataframe\">\n",
       "  <thead>\n",
       "    <tr style=\"text-align: right;\">\n",
       "      <th></th>\n",
       "      <th>date</th>\n",
       "      <th>open</th>\n",
       "      <th>close</th>\n",
       "      <th>low</th>\n",
       "      <th>high</th>\n",
       "      <th>volume</th>\n",
       "      <th>count</th>\n",
       "      <th>amount</th>\n",
       "      <th>EMA20</th>\n",
       "      <th>EMA100</th>\n",
       "      <th>...</th>\n",
       "      <th>close_volatility</th>\n",
       "      <th>Volatility_10</th>\n",
       "      <th>close_Volume_volatility</th>\n",
       "      <th>Volume_volatility_10</th>\n",
       "      <th>UpperBB</th>\n",
       "      <th>MiddleBB</th>\n",
       "      <th>LowerBB</th>\n",
       "      <th>return_lag1</th>\n",
       "      <th>return_lag3</th>\n",
       "      <th>return_lag5</th>\n",
       "    </tr>\n",
       "  </thead>\n",
       "  <tbody>\n",
       "    <tr>\n",
       "      <th>0</th>\n",
       "      <td>2017-10-28 13:30:00</td>\n",
       "      <td>292.37</td>\n",
       "      <td>292.74</td>\n",
       "      <td>292.37</td>\n",
       "      <td>292.75</td>\n",
       "      <td>160.682134</td>\n",
       "      <td>20.0</td>\n",
       "      <td>0.5489</td>\n",
       "      <td>294.090399</td>\n",
       "      <td>294.843200</td>\n",
       "      <td>...</td>\n",
       "      <td>0.001299</td>\n",
       "      <td>0.016358</td>\n",
       "      <td>0.208714</td>\n",
       "      <td>20.221269</td>\n",
       "      <td>298.296695</td>\n",
       "      <td>294.6315</td>\n",
       "      <td>290.966305</td>\n",
       "      <td>0.001300</td>\n",
       "      <td>0.001437</td>\n",
       "      <td>-0.007560</td>\n",
       "    </tr>\n",
       "    <tr>\n",
       "      <th>1</th>\n",
       "      <td>2017-10-28 14:00:00</td>\n",
       "      <td>292.73</td>\n",
       "      <td>291.96</td>\n",
       "      <td>291.86</td>\n",
       "      <td>292.75</td>\n",
       "      <td>176.740890</td>\n",
       "      <td>22.0</td>\n",
       "      <td>0.6049</td>\n",
       "      <td>293.887504</td>\n",
       "      <td>294.786107</td>\n",
       "      <td>...</td>\n",
       "      <td>-0.002668</td>\n",
       "      <td>0.013005</td>\n",
       "      <td>-0.471551</td>\n",
       "      <td>2.280677</td>\n",
       "      <td>298.160943</td>\n",
       "      <td>294.4110</td>\n",
       "      <td>290.661057</td>\n",
       "      <td>-0.002664</td>\n",
       "      <td>-0.002630</td>\n",
       "      <td>-0.002562</td>\n",
       "    </tr>\n",
       "    <tr>\n",
       "      <th>2</th>\n",
       "      <td>2017-10-28 14:30:00</td>\n",
       "      <td>291.97</td>\n",
       "      <td>292.91</td>\n",
       "      <td>291.20</td>\n",
       "      <td>294.59</td>\n",
       "      <td>234.267629</td>\n",
       "      <td>22.0</td>\n",
       "      <td>0.8014</td>\n",
       "      <td>293.794408</td>\n",
       "      <td>294.748956</td>\n",
       "      <td>...</td>\n",
       "      <td>0.003249</td>\n",
       "      <td>0.013102</td>\n",
       "      <td>0.761039</td>\n",
       "      <td>2.320067</td>\n",
       "      <td>297.903752</td>\n",
       "      <td>294.2305</td>\n",
       "      <td>290.557248</td>\n",
       "      <td>0.003254</td>\n",
       "      <td>0.001881</td>\n",
       "      <td>0.002018</td>\n",
       "    </tr>\n",
       "    <tr>\n",
       "      <th>3</th>\n",
       "      <td>2017-10-28 15:00:00</td>\n",
       "      <td>292.94</td>\n",
       "      <td>292.94</td>\n",
       "      <td>291.29</td>\n",
       "      <td>294.58</td>\n",
       "      <td>133.953471</td>\n",
       "      <td>21.0</td>\n",
       "      <td>0.4573</td>\n",
       "      <td>293.713036</td>\n",
       "      <td>294.713135</td>\n",
       "      <td>...</td>\n",
       "      <td>0.000102</td>\n",
       "      <td>0.012696</td>\n",
       "      <td>0.013719</td>\n",
       "      <td>2.177855</td>\n",
       "      <td>297.630285</td>\n",
       "      <td>294.0575</td>\n",
       "      <td>290.484715</td>\n",
       "      <td>0.000102</td>\n",
       "      <td>0.000683</td>\n",
       "      <td>0.000717</td>\n",
       "    </tr>\n",
       "    <tr>\n",
       "      <th>4</th>\n",
       "      <td>2017-10-28 15:30:00</td>\n",
       "      <td>292.89</td>\n",
       "      <td>292.87</td>\n",
       "      <td>291.20</td>\n",
       "      <td>292.89</td>\n",
       "      <td>271.680139</td>\n",
       "      <td>23.0</td>\n",
       "      <td>0.9288</td>\n",
       "      <td>293.632747</td>\n",
       "      <td>294.676638</td>\n",
       "      <td>...</td>\n",
       "      <td>-0.000239</td>\n",
       "      <td>0.009353</td>\n",
       "      <td>-0.064928</td>\n",
       "      <td>1.628303</td>\n",
       "      <td>297.295646</td>\n",
       "      <td>293.8750</td>\n",
       "      <td>290.454354</td>\n",
       "      <td>-0.000239</td>\n",
       "      <td>0.003117</td>\n",
       "      <td>0.001744</td>\n",
       "    </tr>\n",
       "  </tbody>\n",
       "</table>\n",
       "<p>5 rows × 32 columns</p>\n",
       "</div>"
      ],
      "text/plain": [
       "                  date    open   close     low    high      volume  count  \\\n",
       "0  2017-10-28 13:30:00  292.37  292.74  292.37  292.75  160.682134   20.0   \n",
       "1  2017-10-28 14:00:00  292.73  291.96  291.86  292.75  176.740890   22.0   \n",
       "2  2017-10-28 14:30:00  291.97  292.91  291.20  294.59  234.267629   22.0   \n",
       "3  2017-10-28 15:00:00  292.94  292.94  291.29  294.58  133.953471   21.0   \n",
       "4  2017-10-28 15:30:00  292.89  292.87  291.20  292.89  271.680139   23.0   \n",
       "\n",
       "   amount       EMA20      EMA100  ...  close_volatility  Volatility_10  \\\n",
       "0  0.5489  294.090399  294.843200  ...          0.001299       0.016358   \n",
       "1  0.6049  293.887504  294.786107  ...         -0.002668       0.013005   \n",
       "2  0.8014  293.794408  294.748956  ...          0.003249       0.013102   \n",
       "3  0.4573  293.713036  294.713135  ...          0.000102       0.012696   \n",
       "4  0.9288  293.632747  294.676638  ...         -0.000239       0.009353   \n",
       "\n",
       "   close_Volume_volatility  Volume_volatility_10     UpperBB  MiddleBB  \\\n",
       "0                 0.208714             20.221269  298.296695  294.6315   \n",
       "1                -0.471551              2.280677  298.160943  294.4110   \n",
       "2                 0.761039              2.320067  297.903752  294.2305   \n",
       "3                 0.013719              2.177855  297.630285  294.0575   \n",
       "4                -0.064928              1.628303  297.295646  293.8750   \n",
       "\n",
       "      LowerBB  return_lag1  return_lag3  return_lag5  \n",
       "0  290.966305     0.001300     0.001437    -0.007560  \n",
       "1  290.661057    -0.002664    -0.002630    -0.002562  \n",
       "2  290.557248     0.003254     0.001881     0.002018  \n",
       "3  290.484715     0.000102     0.000683     0.000717  \n",
       "4  290.454354    -0.000239     0.003117     0.001744  \n",
       "\n",
       "[5 rows x 32 columns]"
      ]
     },
     "execution_count": 79,
     "metadata": {},
     "output_type": "execute_result"
    }
   ],
   "source": [
    "df = pd.read_csv('../data/train.csv', parse_dates=True)\n",
    "df.head()"
   ]
  },
  {
   "cell_type": "code",
   "execution_count": 80,
   "metadata": {},
   "outputs": [],
   "source": [
    "target ='close'\n",
    "features = df.drop(columns=['date', target]).values\n",
    "X = features.copy()\n",
    "y = df[target].copy().values.reshape(-1, 1)\n",
    "scaler_X = MinMaxScaler()\n",
    "scaler_y = MinMaxScaler()\n",
    "X_train_scaled = scaler_X.fit_transform(X)\n",
    "y_train_scaled = scaler_y.fit_transform(y)"
   ]
  },
  {
   "cell_type": "code",
   "execution_count": 81,
   "metadata": {},
   "outputs": [],
   "source": [
    "# 创建输入序列和标签，使用滑动窗口\n",
    "def create_sequneces(X, y, time_steps=24):\n",
    "    Xs, ys = [], []\n",
    "    for i in range(len(X)-time_steps):\n",
    "        Xs.append(X[i:i+time_steps])\n",
    "        ys.append(y[i+time_steps])\n",
    "    return np.array(Xs), np.array(ys)\n",
    "\n",
    "lstm_params={\"layers\":2, 'units': 64,  'dropout_rate': 0.3, 'learning_rate': 0.0001, 'clipvalue': 0.5, 'epochs': 20,'batch_size': 64, 'input_window': 120}\n",
    "layers = lstm_params.get('layers')\n",
    "model_name=f\"LSTM-w{lstm_params.get('input_window')}-layers{layers}-u{lstm_params.get('units')}-d{lstm_params.get('dropout_rate')}-l{lstm_params.get('learning_rate')}-c{lstm_params.get('clipvalue')}-e{lstm_params.get('epochs')}-b{lstm_params.get('batch_size')}\"\n",
    "X_train, y_train = create_sequneces(X_train_scaled, y_train_scaled)"
   ]
  },
  {
   "cell_type": "code",
   "execution_count": 82,
   "metadata": {},
   "outputs": [
    {
     "name": "stdout",
     "output_type": "stream",
     "text": [
      "划分数据集...\n"
     ]
    }
   ],
   "source": [
    "print(\"划分数据集...\")\n",
    "X_train, X_test, y_train, y_test = train_test_split(X_train, y_train, test_size=0.3, random_state=42, shuffle=False)\n",
    "X_val,X_test, y_val,y_test = train_test_split(X_test, y_test, test_size=0.5, random_state=42, shuffle=False)"
   ]
  },
  {
   "cell_type": "code",
   "execution_count": 83,
   "metadata": {},
   "outputs": [
    {
     "name": "stdout",
     "output_type": "stream",
     "text": [
      "构建LSTM模型...\n",
      "输入数据形状检查：(39212, 24, 30)\n",
      "增加一层layer = 2, return_sequences=False\n"
     ]
    },
    {
     "name": "stderr",
     "output_type": "stream",
     "text": [
      "c:\\Users\\liufa\\.pyenv\\pyenv-win\\versions\\3.10.11\\lib\\site-packages\\keras\\src\\layers\\rnn\\rnn.py:200: UserWarning: Do not pass an `input_shape`/`input_dim` argument to a layer. When using Sequential models, prefer using an `Input(shape)` object as the first layer in the model instead.\n",
      "  super().__init__(**kwargs)\n"
     ]
    },
    {
     "data": {
      "text/html": [
       "<pre style=\"white-space:pre;overflow-x:auto;line-height:normal;font-family:Menlo,'DejaVu Sans Mono',consolas,'Courier New',monospace\"><span style=\"font-weight: bold\">Model: \"sequential_9\"</span>\n",
       "</pre>\n"
      ],
      "text/plain": [
       "\u001b[1mModel: \"sequential_9\"\u001b[0m\n"
      ]
     },
     "metadata": {},
     "output_type": "display_data"
    },
    {
     "data": {
      "text/html": [
       "<pre style=\"white-space:pre;overflow-x:auto;line-height:normal;font-family:Menlo,'DejaVu Sans Mono',consolas,'Courier New',monospace\">┏━━━━━━━━━━━━━━━━━━━━━━━━━━━━━━━━━┳━━━━━━━━━━━━━━━━━━━━━━━━┳━━━━━━━━━━━━━━━┓\n",
       "┃<span style=\"font-weight: bold\"> Layer (type)                    </span>┃<span style=\"font-weight: bold\"> Output Shape           </span>┃<span style=\"font-weight: bold\">       Param # </span>┃\n",
       "┡━━━━━━━━━━━━━━━━━━━━━━━━━━━━━━━━━╇━━━━━━━━━━━━━━━━━━━━━━━━╇━━━━━━━━━━━━━━━┩\n",
       "│ lstm_20 (<span style=\"color: #0087ff; text-decoration-color: #0087ff\">LSTM</span>)                  │ (<span style=\"color: #00d7ff; text-decoration-color: #00d7ff\">None</span>, <span style=\"color: #00af00; text-decoration-color: #00af00\">24</span>, <span style=\"color: #00af00; text-decoration-color: #00af00\">64</span>)         │        <span style=\"color: #00af00; text-decoration-color: #00af00\">24,320</span> │\n",
       "├─────────────────────────────────┼────────────────────────┼───────────────┤\n",
       "│ dropout_18 (<span style=\"color: #0087ff; text-decoration-color: #0087ff\">Dropout</span>)            │ (<span style=\"color: #00d7ff; text-decoration-color: #00d7ff\">None</span>, <span style=\"color: #00af00; text-decoration-color: #00af00\">24</span>, <span style=\"color: #00af00; text-decoration-color: #00af00\">64</span>)         │             <span style=\"color: #00af00; text-decoration-color: #00af00\">0</span> │\n",
       "├─────────────────────────────────┼────────────────────────┼───────────────┤\n",
       "│ lstm_21 (<span style=\"color: #0087ff; text-decoration-color: #0087ff\">LSTM</span>)                  │ (<span style=\"color: #00d7ff; text-decoration-color: #00d7ff\">None</span>, <span style=\"color: #00af00; text-decoration-color: #00af00\">64</span>)             │        <span style=\"color: #00af00; text-decoration-color: #00af00\">33,024</span> │\n",
       "├─────────────────────────────────┼────────────────────────┼───────────────┤\n",
       "│ dropout_19 (<span style=\"color: #0087ff; text-decoration-color: #0087ff\">Dropout</span>)            │ (<span style=\"color: #00d7ff; text-decoration-color: #00d7ff\">None</span>, <span style=\"color: #00af00; text-decoration-color: #00af00\">64</span>)             │             <span style=\"color: #00af00; text-decoration-color: #00af00\">0</span> │\n",
       "├─────────────────────────────────┼────────────────────────┼───────────────┤\n",
       "│ dense_7 (<span style=\"color: #0087ff; text-decoration-color: #0087ff\">Dense</span>)                 │ (<span style=\"color: #00d7ff; text-decoration-color: #00d7ff\">None</span>, <span style=\"color: #00af00; text-decoration-color: #00af00\">1</span>)              │            <span style=\"color: #00af00; text-decoration-color: #00af00\">65</span> │\n",
       "└─────────────────────────────────┴────────────────────────┴───────────────┘\n",
       "</pre>\n"
      ],
      "text/plain": [
       "┏━━━━━━━━━━━━━━━━━━━━━━━━━━━━━━━━━┳━━━━━━━━━━━━━━━━━━━━━━━━┳━━━━━━━━━━━━━━━┓\n",
       "┃\u001b[1m \u001b[0m\u001b[1mLayer (type)                   \u001b[0m\u001b[1m \u001b[0m┃\u001b[1m \u001b[0m\u001b[1mOutput Shape          \u001b[0m\u001b[1m \u001b[0m┃\u001b[1m \u001b[0m\u001b[1m      Param #\u001b[0m\u001b[1m \u001b[0m┃\n",
       "┡━━━━━━━━━━━━━━━━━━━━━━━━━━━━━━━━━╇━━━━━━━━━━━━━━━━━━━━━━━━╇━━━━━━━━━━━━━━━┩\n",
       "│ lstm_20 (\u001b[38;5;33mLSTM\u001b[0m)                  │ (\u001b[38;5;45mNone\u001b[0m, \u001b[38;5;34m24\u001b[0m, \u001b[38;5;34m64\u001b[0m)         │        \u001b[38;5;34m24,320\u001b[0m │\n",
       "├─────────────────────────────────┼────────────────────────┼───────────────┤\n",
       "│ dropout_18 (\u001b[38;5;33mDropout\u001b[0m)            │ (\u001b[38;5;45mNone\u001b[0m, \u001b[38;5;34m24\u001b[0m, \u001b[38;5;34m64\u001b[0m)         │             \u001b[38;5;34m0\u001b[0m │\n",
       "├─────────────────────────────────┼────────────────────────┼───────────────┤\n",
       "│ lstm_21 (\u001b[38;5;33mLSTM\u001b[0m)                  │ (\u001b[38;5;45mNone\u001b[0m, \u001b[38;5;34m64\u001b[0m)             │        \u001b[38;5;34m33,024\u001b[0m │\n",
       "├─────────────────────────────────┼────────────────────────┼───────────────┤\n",
       "│ dropout_19 (\u001b[38;5;33mDropout\u001b[0m)            │ (\u001b[38;5;45mNone\u001b[0m, \u001b[38;5;34m64\u001b[0m)             │             \u001b[38;5;34m0\u001b[0m │\n",
       "├─────────────────────────────────┼────────────────────────┼───────────────┤\n",
       "│ dense_7 (\u001b[38;5;33mDense\u001b[0m)                 │ (\u001b[38;5;45mNone\u001b[0m, \u001b[38;5;34m1\u001b[0m)              │            \u001b[38;5;34m65\u001b[0m │\n",
       "└─────────────────────────────────┴────────────────────────┴───────────────┘\n"
      ]
     },
     "metadata": {},
     "output_type": "display_data"
    },
    {
     "data": {
      "text/html": [
       "<pre style=\"white-space:pre;overflow-x:auto;line-height:normal;font-family:Menlo,'DejaVu Sans Mono',consolas,'Courier New',monospace\"><span style=\"font-weight: bold\"> Total params: </span><span style=\"color: #00af00; text-decoration-color: #00af00\">57,409</span> (224.25 KB)\n",
       "</pre>\n"
      ],
      "text/plain": [
       "\u001b[1m Total params: \u001b[0m\u001b[38;5;34m57,409\u001b[0m (224.25 KB)\n"
      ]
     },
     "metadata": {},
     "output_type": "display_data"
    },
    {
     "data": {
      "text/html": [
       "<pre style=\"white-space:pre;overflow-x:auto;line-height:normal;font-family:Menlo,'DejaVu Sans Mono',consolas,'Courier New',monospace\"><span style=\"font-weight: bold\"> Trainable params: </span><span style=\"color: #00af00; text-decoration-color: #00af00\">57,409</span> (224.25 KB)\n",
       "</pre>\n"
      ],
      "text/plain": [
       "\u001b[1m Trainable params: \u001b[0m\u001b[38;5;34m57,409\u001b[0m (224.25 KB)\n"
      ]
     },
     "metadata": {},
     "output_type": "display_data"
    },
    {
     "data": {
      "text/html": [
       "<pre style=\"white-space:pre;overflow-x:auto;line-height:normal;font-family:Menlo,'DejaVu Sans Mono',consolas,'Courier New',monospace\"><span style=\"font-weight: bold\"> Non-trainable params: </span><span style=\"color: #00af00; text-decoration-color: #00af00\">0</span> (0.00 B)\n",
       "</pre>\n"
      ],
      "text/plain": [
       "\u001b[1m Non-trainable params: \u001b[0m\u001b[38;5;34m0\u001b[0m (0.00 B)\n"
      ]
     },
     "metadata": {},
     "output_type": "display_data"
    }
   ],
   "source": [
    "print(\"构建LSTM模型...\")\n",
    "print(f\"输入数据形状检查：{X_train.shape}\")  # 应为 (样本数, 时间步, 特征数)\n",
    "model = tf.keras.models.Sequential()\n",
    "model.add(tf.keras.layers.LSTM(units=lstm_params.get('units'), \n",
    "                               input_shape=( X_train.shape[1], X_train.shape[2]), return_sequences=layers > 1))\n",
    "model.add(tf.keras.layers.Dropout(lstm_params.get('dropout_rate')))\n",
    "for i in range(1, lstm_params.get('layers')):\n",
    "    print(f\"增加一层layer = {i+1}, return_sequences={layers -1 > i}\")\n",
    "    model.add(tf.keras.layers.LSTM(units=lstm_params.get('units'), return_sequences=(layers -1 > i)))\n",
    "    model.add(tf.keras.layers.Dropout(lstm_params.get('dropout_rate')))\n",
    "model.add(tf.keras.layers.Dense(units=1))\n",
    "\n",
    "model.compile(optimizer=tf.keras.optimizers.Adam(learning_rate= lstm_params.get('learning_rate'),\n",
    "                                                 clipvalue=lstm_params.get('clipvalue')), loss='mean_squared_error', metrics=['mae'])\n",
    "model.summary()"
   ]
  },
  {
   "cell_type": "code",
   "execution_count": null,
   "metadata": {},
   "outputs": [
    {
     "name": "stdout",
     "output_type": "stream",
     "text": [
      "训练模型...\n",
      "Epoch 1/20\n",
      "\u001b[1m613/613\u001b[0m \u001b[32m━━━━━━━━━━━━━━━━━━━━\u001b[0m\u001b[37m\u001b[0m \u001b[1m42s\u001b[0m 55ms/step - loss: 0.0169 - mae: 0.0805 - val_loss: 3.4371e-05 - val_mae: 0.0043\n",
      "Epoch 2/20\n",
      "\u001b[1m613/613\u001b[0m \u001b[32m━━━━━━━━━━━━━━━━━━━━\u001b[0m\u001b[37m\u001b[0m \u001b[1m30s\u001b[0m 49ms/step - loss: 0.0018 - mae: 0.0303 - val_loss: 1.1690e-05 - val_mae: 0.0024\n",
      "Epoch 3/20\n",
      "\u001b[1m613/613\u001b[0m \u001b[32m━━━━━━━━━━━━━━━━━━━━\u001b[0m\u001b[37m\u001b[0m \u001b[1m30s\u001b[0m 48ms/step - loss: 0.0011 - mae: 0.0236 - val_loss: 6.7839e-06 - val_mae: 0.0018\n",
      "Epoch 4/20\n",
      "\u001b[1m613/613\u001b[0m \u001b[32m━━━━━━━━━━━━━━━━━━━━\u001b[0m\u001b[37m\u001b[0m \u001b[1m27s\u001b[0m 45ms/step - loss: 9.5004e-04 - mae: 0.0209 - val_loss: 2.9025e-05 - val_mae: 0.0048\n",
      "Epoch 5/20\n",
      "\u001b[1m613/613\u001b[0m \u001b[32m━━━━━━━━━━━━━━━━━━━━\u001b[0m\u001b[37m\u001b[0m \u001b[1m27s\u001b[0m 44ms/step - loss: 8.3177e-04 - mae: 0.0188 - val_loss: 5.3087e-05 - val_mae: 0.0069\n",
      "Epoch 6/20\n",
      "\u001b[1m613/613\u001b[0m \u001b[32m━━━━━━━━━━━━━━━━━━━━\u001b[0m\u001b[37m\u001b[0m \u001b[1m31s\u001b[0m 51ms/step - loss: 6.9409e-04 - mae: 0.0170 - val_loss: 8.8205e-06 - val_mae: 0.0022\n",
      "Epoch 7/20\n",
      "\u001b[1m613/613\u001b[0m \u001b[32m━━━━━━━━━━━━━━━━━━━━\u001b[0m\u001b[37m\u001b[0m \u001b[1m0s\u001b[0m 42ms/step - loss: 6.4590e-04 - mae: 0.0160"
     ]
    }
   ],
   "source": [
    "print(\"训练模型...\")\n",
    "early_stopping = tf.keras.callbacks.EarlyStopping(monitor='val_loss', patience=5, restore_best_weights=True)\n",
    "\n",
    "history = model.fit(X_train, y_train, epochs=lstm_params.get('epochs'), \n",
    "                    batch_size=lstm_params.get('batch_size'), \n",
    "                    validation_data=(X_val, y_val), verbose=1, callbacks=[early_stopping])"
   ]
  },
  {
   "cell_type": "code",
   "execution_count": null,
   "metadata": {},
   "outputs": [],
   "source": [
    "print(\"预测模型...\")\n",
    "predictions = model.predict(X_test)\n",
    "predicted_prices =  scaler_y.inverse_transform(predictions)\n",
    "real_prices = scaler_y.inverse_transform(y_test.reshape(-1, 1))"
   ]
  },
  {
   "cell_type": "code",
   "execution_count": null,
   "metadata": {},
   "outputs": [],
   "source": [
    "# 打印结果\n",
    "fig, (ax) = plt.subplots(1,1,figsize=(12, 6))\n",
    "plt.plot(predicted_prices, label='predicted_prices')\n",
    "plt.plot(real_prices, label='real_prices')\n",
    "plt.title('Model Accuracy History')\n",
    "plt.ylabel('Accuracy')\n",
    "plt.xlabel('Epoch')\n",
    "plt.legend()\n",
    "ax.xaxis.set_major_locator(mdates.AutoDateLocator())\n",
    "ax.xaxis.set_major_formatter(mdates.DateFormatter(\"%m-%d %H:%M\"))\n",
    "plt.grid(True)\n",
    "plt.show()\n",
    "plt.savefig(f'results/model_predicted_prices-{model_name}.png')\n",
    "\n",
    "fig2 = plt.figure(figsize=(12, 6))\n",
    "plt.plot(predicted_prices[-100:], label='predicted_prices')\n",
    "plt.plot(real_prices[-100:], label='real_prices')\n",
    "plt.title('Model Accuracy History')\n",
    "plt.ylabel('Accuracy')\n",
    "plt.xlabel('Epoch')\n",
    "plt.legend()\n",
    "plt.grid(True)\n",
    "plt.show()\n"
   ]
  },
  {
   "cell_type": "code",
   "execution_count": null,
   "metadata": {},
   "outputs": [],
   "source": [
    "\"\"\"模型验证和评估\"\"\"\n",
    "print(\"评估模型...\")\n",
    "mse = mean_squared_error(real_prices, predicted_prices)\n",
    "rmse = np.sqrt(mse)\n",
    "mae = mean_absolute_error(real_prices, predicted_prices)\n",
    "r2 = r2_score(real_prices, predicted_prices)\n",
    "print(f\"Mean Squared Error (MSE): {mse}\")\n",
    "print(f\"Root Mean Squared Error (RMSE): {rmse}\")\n",
    "print(f\"Mean Absolute Error (MAE): {mae}\")\n",
    "print(f\"R-squared (R2): {r2}\")"
   ]
  },
  {
   "cell_type": "code",
   "execution_count": null,
   "metadata": {},
   "outputs": [],
   "source": [
    "\"\"\"打印验证损失曲线\"\"\"\n",
    "fig2 = plt.figure(figsize=(16, 6))\n",
    "plt.plot(history.history['loss'], label='Training Loss')\n",
    "# 绘制验证损失曲线（如果有验证集）\n",
    "plt.plot(history.history['val_loss'], label='Validation Loss')\n",
    "# 添加统计信息框\n",
    "stats_text = f\"\"\"模型验证和评估：\n",
    "• Mean Squared Error (MSE):{mse}\n",
    "• Root Mean Squared Error (RMSE):{rmse}\n",
    "• Mean Absolute Error (MAE):{mae}\n",
    "• R-squared (R2): {r2}\n",
    "\"\"\"\n",
    "\n",
    "plt.annotate(stats_text, \n",
    "            xy=(0.78, 0.85), \n",
    "            xycoords='axes fraction',\n",
    "            bbox=dict(boxstyle=\"round\", fc=\"white\", ec=\"#999999\", alpha=0.8))\n",
    "plt.title(f'Model Training History')\n",
    "plt.ylabel('Loss')\n",
    "plt.xlabel('Epoch')\n",
    "plt.legend()\n",
    "plt.grid(True)\n",
    "plt.show()\n",
    "plt.savefig(f'results/model_loss-{model_name}.png')"
   ]
  },
  {
   "cell_type": "code",
   "execution_count": null,
   "metadata": {},
   "outputs": [],
   "source": [
    "# 特征重构（加入时序特征）\n",
    "def create_ensemble_features(X, predictions):\n",
    "    return np.concatenate([\n",
    "        X.reshape(X.shape[0], -1),          # 原始特征\n",
    "        predictions,                        # LSTM预测值\n",
    "        np.arange(len(predictions))[:,None] # 时序位置特征\n",
    "    ], axis=1)\n",
    "\n",
    "# 训练残差修正模型\n",
    "ensemble_train_features = create_ensemble_features(X_train, model.predict(X_train))\n",
    "residual_model = GradientBoostingRegressor(\n",
    "    n_estimators=100, \n",
    "    learning_rate=0.1,\n",
    "    max_depth=3\n",
    ")\n",
    "residual_model.fit(ensemble_train_features, scaler_y.inverse_transform(y_train) - model.predict(X_train).flatten())\n",
    "\n",
    "# 组合预测\n",
    "test_features = create_ensemble_features(X_test, predictions)\n",
    "adjusted_predictions = predicted_prices.flatten() + residual_model.predict(test_features)\n",
    "\n",
    "# 带残差修正的评估\n",
    "def evaluate_adjusted():\n",
    "    adj_mse = mean_squared_error(real_prices, adjusted_predictions)\n",
    "    adj_rmse = np.sqrt(adj_mse)\n",
    "    adj_mae = mean_absolute_error(real_prices, adjusted_predictions)\n",
    "    adj_r2 = r2_score(real_prices, adjusted_predictions)\n",
    "    print(f\"修正后 MSE: {adj_mse:.4f} (改善 {100*(mse-adj_mse)/mse:.1f}%)\")\n",
    "    print(f\"修正后 MAE: {adj_mae:.4f} (改善 {100*(mae-adj_mae)/mae:.1f}%)\")\n",
    "    stats_text = f\"\"\"模型验证和评估：\n",
    "        • Mean Squared Error (MSE):{adj_mse}\n",
    "        • Root Mean Squared Error (RMSE):{adj_rmse}\n",
    "        • Mean Absolute Error (MAE):{adj_mae}\n",
    "        • R-squared (R2): {adj_r2}\n",
    "        \"\"\"\n",
    "\n",
    "    plt.annotate(stats_text, \n",
    "                xy=(0.78, 0.85), \n",
    "                xycoords='axes fraction',\n",
    "                bbox=dict(boxstyle=\"round\", fc=\"white\", ec=\"#999999\", alpha=0.8))\n",
    "    plt.figure(figsize=(12,6))\n",
    "    plt.plot(real_prices[-100:], label='True')\n",
    "    plt.plot(predicted_prices[-100:], label='LSTM', alpha=0.7)\n",
    "    plt.plot(adjusted_predictions[-100:], label='Adjusted', linestyle='--')\n",
    "    plt.title('Prediction Comparison')\n",
    "    plt.legend()\n",
    "    plt.show()\n",
    "    plt.savefig(f'results/evaluate_adjusted-{model_name}.png')\n",
    "\n",
    "evaluate_adjusted()"
   ]
  }
 ],
 "metadata": {
  "kernelspec": {
   "display_name": "Python 3",
   "language": "python",
   "name": "python3"
  },
  "language_info": {
   "codemirror_mode": {
    "name": "ipython",
    "version": 3
   },
   "file_extension": ".py",
   "mimetype": "text/x-python",
   "name": "python",
   "nbconvert_exporter": "python",
   "pygments_lexer": "ipython3",
   "version": "3.10.11"
  }
 },
 "nbformat": 4,
 "nbformat_minor": 2
}
